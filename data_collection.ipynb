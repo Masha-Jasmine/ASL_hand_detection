{
 "cells": [
  {
   "cell_type": "markdown",
   "id": "ca220fff",
   "metadata": {},
   "source": [
    "# Data Collection"
   ]
  },
  {
   "cell_type": "markdown",
   "id": "781f003d",
   "metadata": {},
   "source": [
    "This notebook is used to collect data for training a model to classify the ASL letters shown in an image. By starting the notebook, a camera frame opens. The person in front of the camera must sign a letter from the ASL alphabet. When pressing s, pictures are taken. The person should slightly move their hand while signing the letter so pictures can be taken with different angles and distances. The images are automatically saved in a folder. The folders are named 0, 1, .... 25. Each folder corresponds to a letter in the alphabet: 0=A, 1=B, ... 25=Z. "
   ]
  },
  {
   "cell_type": "code",
   "execution_count": null,
   "id": "93a843d8",
   "metadata": {},
   "outputs": [],
   "source": [
    "import os\n",
    "import cv2"
   ]
  },
  {
   "cell_type": "code",
   "execution_count": null,
   "id": "433b02b5",
   "metadata": {},
   "outputs": [],
   "source": [
    "letter_count = 26\n",
    "dataset_size = 100\n",
    "DIR = './data_collection'\n",
    "\n",
    "cap = cv2.VideoCapture(0)\n",
    "for j in range(letter_count): #for every letter in the alphabet\n",
    "    if not os.path.exists(os.path.join(DIR, str(j))):\n",
    "        os.makedirs(os.path.join(DIR, str(j))) #create dir\n",
    "    done = False\n",
    "    while True: #video\n",
    "        ret, frame = cap.read()\n",
    "        key = cv2.waitKey(1)\n",
    "        if key == 27:  # terminate video capture by pressing esc\n",
    "            cap.release()\n",
    "            cv2.destroyAllWindows()\n",
    "        cv2.putText(frame, 'Press \"S\" to start.', (100, 50),\n",
    "                    cv2.FONT_HERSHEY_SIMPLEX, 2, (0, 0, 5),5)\n",
    "        cv2.imshow('frame', frame)\n",
    "        \n",
    "        #start s to start recording photos for one letter\n",
    "        if cv2.waitKey(1) == ord('s'): \n",
    "            break\n",
    "\n",
    "    counter = 0 #take 100 photos\n",
    "    while counter < dataset_size:\n",
    "        ret, frame = cap.read()\n",
    "        cv2.imshow('frame', frame)\n",
    "        cv2.waitKey(1)\n",
    "        cv2.imwrite(os.path.join(DIR, str(j),\n",
    "                                 '{}.jpg'.format(counter)), frame)\n",
    "\n",
    "        counter += 1\n",
    "\n",
    "cap.release()\n",
    "cv2.destroyAllWindows()"
   ]
  },
  {
   "cell_type": "code",
   "execution_count": null,
   "id": "d03c95de",
   "metadata": {},
   "outputs": [],
   "source": []
  }
 ],
 "metadata": {
  "kernelspec": {
   "display_name": "Python 3 (ipykernel)",
   "language": "python",
   "name": "python3"
  },
  "language_info": {
   "codemirror_mode": {
    "name": "ipython",
    "version": 3
   },
   "file_extension": ".py",
   "mimetype": "text/x-python",
   "name": "python",
   "nbconvert_exporter": "python",
   "pygments_lexer": "ipython3",
   "version": "3.8.2"
  }
 },
 "nbformat": 4,
 "nbformat_minor": 5
}
